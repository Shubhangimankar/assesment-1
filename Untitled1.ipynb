{
 "cells": [
  {
   "cell_type": "code",
   "execution_count": 4,
   "id": "2391c724",
   "metadata": {},
   "outputs": [
    {
     "name": "stdout",
     "output_type": "stream",
     "text": [
      "Found\n"
     ]
    }
   ],
   "source": [
    "M = 3\n",
    "N = 4\n",
    " \n",
    "\n",
    "def binarySearch1D(arr, K):\n",
    "    low = 0\n",
    "    high = N - 1\n",
    "    while (low <= high):\n",
    "        mid = low + int((high - low) / 2)\n",
    " \n",
    "       \n",
    "        if (arr[mid] == K):\n",
    "            return True\n",
    " \n",
    "       \n",
    "        if (arr[mid] < K):\n",
    "            low = mid + 1\n",
    "        else:\n",
    "            high = mid - 1\n",
    " \n",
    "    # if not found return false\n",
    "    return False\n",
    " \n",
    "\n",
    "def searchMatrix(matrix, K):\n",
    "    low = 0\n",
    "    high = M - 1\n",
    "    while (low <= high):\n",
    "        mid = low + int((high - low) / 2)\n",
    " \n",
    "       \n",
    "        if (K >= matrix[mid][0] and\n",
    "            K <= matrix[mid][N - 1]):\n",
    "            return binarySearch1D(matrix[mid], K)\n",
    " \n",
    "      \n",
    "        if (K < matrix[mid][0]):\n",
    "            high = mid - 1\n",
    "        else:\n",
    "            low = mid + 1\n",
    " \n",
    "    # if not found\n",
    "    return False\n",
    " \n",
    "# Driver code\n",
    "if __name__ == '__main__':\n",
    "    matrix = [[1, 3, 5, 7],\n",
    "              [10, 11, 16, 20],\n",
    "              [23, 30, 34, 60]]\n",
    "    K = 3\n",
    "    if (searchMatrix(matrix, K)):\n",
    "        print(\"Found\")\n",
    "    else:\n",
    "        print(\"Not found\")"
   ]
  },
  {
   "cell_type": "code",
   "execution_count": null,
   "id": "54a1eed7",
   "metadata": {},
   "outputs": [],
   "source": []
  }
 ],
 "metadata": {
  "kernelspec": {
   "display_name": "Python 3 (ipykernel)",
   "language": "python",
   "name": "python3"
  },
  "language_info": {
   "codemirror_mode": {
    "name": "ipython",
    "version": 3
   },
   "file_extension": ".py",
   "mimetype": "text/x-python",
   "name": "python",
   "nbconvert_exporter": "python",
   "pygments_lexer": "ipython3",
   "version": "3.11.5"
  }
 },
 "nbformat": 4,
 "nbformat_minor": 5
}
